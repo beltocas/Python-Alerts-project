{
 "cells": [
  {
   "cell_type": "markdown",
   "metadata": {},
   "source": [
    "# Alerta con Python y Sql"
   ]
  },
  {
   "cell_type": "markdown",
   "metadata": {},
   "source": [
    "Import libreries"
   ]
  },
  {
   "cell_type": "code",
   "execution_count": 3,
   "metadata": {},
   "outputs": [],
   "source": [
    "from datetime import datetime\n",
    "import pandas as pd\n",
    "import sqlalchemy as db\n",
    "import numpy as np\n",
    "import pyodbc"
   ]
  },
  {
   "cell_type": "markdown",
   "metadata": {},
   "source": [
    "Conect with your data base"
   ]
  },
  {
   "cell_type": "code",
   "execution_count": 4,
   "metadata": {},
   "outputs": [],
   "source": [
    "#Control execution time\n",
    "start = datetime.now()\n",
    "\n",
    "#Conection with your data base\n",
    "conn = pyodbc.connect('Driver={Teradata Database ODBC Driver 16.20};'\n",
    "                        'DBCNAME={your_db_name};'\n",
    "                        'UID={user};'\n",
    "                        'PWD={pasword}')"
   ]
  },
  {
   "cell_type": "markdown",
   "metadata": {},
   "source": [
    "Excecute your querys with \"consulta\" that it is a cursor"
   ]
  },
  {
   "cell_type": "code",
   "execution_count": 5,
   "metadata": {},
   "outputs": [
    {
     "name": "stderr",
     "output_type": "stream",
     "text": [
      "C:\\Users\\B41319\\AppData\\Local\\Temp\\ipykernel_5932\\1403149927.py:35: UserWarning: pandas only supports SQLAlchemy connectable (engine/connection) or database string URI or sqlite3 DBAPI2 connection. Other DBAPI2 objects are not tested. Please consider using SQLAlchemy.\n",
      "  data_avance = pd.read_sql_query(query_temporal,conn)\n"
     ]
    }
   ],
   "source": [
    "period = '202309'\n",
    "\n",
    "consulta = conn.cursor()\n",
    "\n",
    "#Build your temporal table \n",
    "consulta.execute('''\n",
    "    CREATE VOLATILE MULTISET TABLE TEMP_TC_HISTORICO_APROBADA_ALERT AS\n",
    "        (\n",
    "            SELECT \tSupervisor_Cd  REG_SUPERVISOR,Supervisor_Nm SUPERVIDOR,Promotor_Cd CODPROMOT,Promotor_Nm EJECUTIVO,documento_Num NRODOCTIT,Cliente_Cd,\n",
    "                    CAST(AprobacionExpedADQ_Fc AS DATE) FECRESOL,MesAprobacionExpedADQ_Fc MESRESOL,CAST(EntregaTc_Fc AS DATE) FECENTREGA ,MesEntregaTc_Dsc MESENTREGA,MESACTIVACOMISION,\n",
    "                    FECACTIVACOMISION,EquipoVenta_Dsc EQUIPO,SubEquipoVenta_Dsc SUBEQUIPO,EstadoSolicitud_Cd CODESTADO,Operacion_Cd CODOPERAC,Ooperacion_Dsc OPERACION\n",
    "            --SELECT *\n",
    "            FROM \tDLAB_DESNEGRET.CGR_TC_HISTORICO\n",
    "            WHERE \tMesAprobacionExpedADQ_Fc>=(year(date)*100+month(date)-2) AND EstadoSolicitud_Cd=3 AND Operacion_Cd IN (1,2) --and NRODOCTIT = '75489595'\n",
    "            AND \tPromotor_Cd IN (SELECT REG_EJECUTIVO FROM DLAB_DESNEGRET.MAESTRO_DOTACION WHERE PERIODO=(year(date)*100+month(date)) AND EQUIPO='TLV TARJETAS' \n",
    "                                AND sub_equipo = 'EMPRENDEDOR + PREFERENTE' AND PUESTO='EJECUTIVO' )\n",
    "        )\n",
    "\n",
    "    WITH DATA \n",
    "    PRIMARY INDEX(EJECUTIVO,NRODOCTIT ) ON COMMIT PRESERVE ROWS;\n",
    "        ''')\n",
    "    \n",
    "consulta.commit()\n",
    "consulta.close()\n",
    "    \n",
    "#Query in Teradata\n",
    "query_temporal = '''\n",
    "    SELECT FECRESOL, COUNT(*) CANTIDAD from TEMP_TC_HISTORICO_APROBADA_ALERT\n",
    "    WHERE MESRESOL=(year(date)*100+month(date))\n",
    "    AND CODESTADO=3 AND CODOPERAC IN (1,2)\n",
    "    GROUP BY FECRESOL\n",
    "    ORDER BY FECRESOL DESC;\n",
    "'''\n",
    "\n",
    "data_avance = pd.read_sql_query(query_temporal,conn)\n",
    "df_table = data_avance.copy()"
   ]
  },
  {
   "cell_type": "code",
   "execution_count": 6,
   "metadata": {},
   "outputs": [
    {
     "data": {
      "text/html": [
       "<div>\n",
       "<style scoped>\n",
       "    .dataframe tbody tr th:only-of-type {\n",
       "        vertical-align: middle;\n",
       "    }\n",
       "\n",
       "    .dataframe tbody tr th {\n",
       "        vertical-align: top;\n",
       "    }\n",
       "\n",
       "    .dataframe thead th {\n",
       "        text-align: right;\n",
       "    }\n",
       "</style>\n",
       "<table border=\"1\" class=\"dataframe\">\n",
       "  <thead>\n",
       "    <tr style=\"text-align: right;\">\n",
       "      <th></th>\n",
       "      <th>FECRESOL</th>\n",
       "      <th>CANTIDAD</th>\n",
       "    </tr>\n",
       "  </thead>\n",
       "  <tbody>\n",
       "    <tr>\n",
       "      <th>0</th>\n",
       "      <td>2023-09-20</td>\n",
       "      <td>5</td>\n",
       "    </tr>\n",
       "    <tr>\n",
       "      <th>1</th>\n",
       "      <td>2023-09-19</td>\n",
       "      <td>4</td>\n",
       "    </tr>\n",
       "    <tr>\n",
       "      <th>2</th>\n",
       "      <td>2023-09-18</td>\n",
       "      <td>9</td>\n",
       "    </tr>\n",
       "    <tr>\n",
       "      <th>3</th>\n",
       "      <td>2023-09-16</td>\n",
       "      <td>2</td>\n",
       "    </tr>\n",
       "    <tr>\n",
       "      <th>4</th>\n",
       "      <td>2023-09-15</td>\n",
       "      <td>183</td>\n",
       "    </tr>\n",
       "    <tr>\n",
       "      <th>5</th>\n",
       "      <td>2023-09-14</td>\n",
       "      <td>236</td>\n",
       "    </tr>\n",
       "    <tr>\n",
       "      <th>6</th>\n",
       "      <td>2023-09-13</td>\n",
       "      <td>205</td>\n",
       "    </tr>\n",
       "    <tr>\n",
       "      <th>7</th>\n",
       "      <td>2023-09-12</td>\n",
       "      <td>79</td>\n",
       "    </tr>\n",
       "    <tr>\n",
       "      <th>8</th>\n",
       "      <td>2023-09-11</td>\n",
       "      <td>177</td>\n",
       "    </tr>\n",
       "    <tr>\n",
       "      <th>9</th>\n",
       "      <td>2023-09-08</td>\n",
       "      <td>219</td>\n",
       "    </tr>\n",
       "    <tr>\n",
       "      <th>10</th>\n",
       "      <td>2023-09-07</td>\n",
       "      <td>268</td>\n",
       "    </tr>\n",
       "    <tr>\n",
       "      <th>11</th>\n",
       "      <td>2023-09-06</td>\n",
       "      <td>274</td>\n",
       "    </tr>\n",
       "    <tr>\n",
       "      <th>12</th>\n",
       "      <td>2023-09-05</td>\n",
       "      <td>255</td>\n",
       "    </tr>\n",
       "    <tr>\n",
       "      <th>13</th>\n",
       "      <td>2023-09-04</td>\n",
       "      <td>216</td>\n",
       "    </tr>\n",
       "    <tr>\n",
       "      <th>14</th>\n",
       "      <td>2023-09-02</td>\n",
       "      <td>117</td>\n",
       "    </tr>\n",
       "    <tr>\n",
       "      <th>15</th>\n",
       "      <td>2023-09-01</td>\n",
       "      <td>278</td>\n",
       "    </tr>\n",
       "  </tbody>\n",
       "</table>\n",
       "</div>"
      ],
      "text/plain": [
       "      FECRESOL  CANTIDAD\n",
       "0   2023-09-20         5\n",
       "1   2023-09-19         4\n",
       "2   2023-09-18         9\n",
       "3   2023-09-16         2\n",
       "4   2023-09-15       183\n",
       "5   2023-09-14       236\n",
       "6   2023-09-13       205\n",
       "7   2023-09-12        79\n",
       "8   2023-09-11       177\n",
       "9   2023-09-08       219\n",
       "10  2023-09-07       268\n",
       "11  2023-09-06       274\n",
       "12  2023-09-05       255\n",
       "13  2023-09-04       216\n",
       "14  2023-09-02       117\n",
       "15  2023-09-01       278"
      ]
     },
     "execution_count": 6,
     "metadata": {},
     "output_type": "execute_result"
    }
   ],
   "source": [
    "data_avance"
   ]
  },
  {
   "cell_type": "markdown",
   "metadata": {},
   "source": [
    "In this part of code, i try to transform data"
   ]
  },
  {
   "cell_type": "code",
   "execution_count": 8,
   "metadata": {},
   "outputs": [
    {
     "name": "stderr",
     "output_type": "stream",
     "text": [
      "C:\\Users\\B41319\\AppData\\Local\\Temp\\ipykernel_5932\\1680762183.py:13: FutureWarning: The frame.append method is deprecated and will be removed from pandas in a future version. Use pandas.concat instead.\n",
      "  df_original = df_original.append(new_row, ignore_index=True)\n",
      "C:\\Users\\B41319\\AppData\\Local\\Temp\\ipykernel_5932\\1680762183.py:13: FutureWarning: The frame.append method is deprecated and will be removed from pandas in a future version. Use pandas.concat instead.\n",
      "  df_original = df_original.append(new_row, ignore_index=True)\n",
      "C:\\Users\\B41319\\AppData\\Local\\Temp\\ipykernel_5932\\1680762183.py:13: FutureWarning: The frame.append method is deprecated and will be removed from pandas in a future version. Use pandas.concat instead.\n",
      "  df_original = df_original.append(new_row, ignore_index=True)\n",
      "C:\\Users\\B41319\\AppData\\Local\\Temp\\ipykernel_5932\\1680762183.py:13: FutureWarning: The frame.append method is deprecated and will be removed from pandas in a future version. Use pandas.concat instead.\n",
      "  df_original = df_original.append(new_row, ignore_index=True)\n"
     ]
    }
   ],
   "source": [
    "import datetime\n",
    "def insert_dates(date_arr,df_original,df_dates,table,column1,column2):\n",
    "    #Loop that insert data\n",
    "    if table == 'activas':\n",
    "        for days in date_arr:\n",
    "            if days not in df_dates:\n",
    "                #Define the variables for the new row\n",
    "                value_column1 = days\n",
    "                value_column2 = 0\n",
    "                #Variable of your insert in dataframe\n",
    "                new_row = {column1: value_column1,column2: value_column2}\n",
    "                #Use the append method to add the new row to the DataFrame\n",
    "                df_original = df_original.append(new_row, ignore_index=True)\n",
    "    return df_original\n",
    "\n",
    "#Insert of array dates\n",
    "def dates_array():\n",
    "    current_date = datetime.date.today() +datetime.timedelta(days=-1)\n",
    "    fisrt_date = current_date.replace(day=1)\n",
    "\n",
    "    #initialize array of dates\n",
    "    dates = []\n",
    "\n",
    "    #fisrt insert in dates\n",
    "    dates.append(fisrt_date)\n",
    "\n",
    "    while fisrt_date < current_date:\n",
    "        # calculate the next day\n",
    "        fisrt_date += datetime.timedelta(days=1)\n",
    "        #insert the next date \n",
    "        dates.append(fisrt_date)\n",
    "    return dates\n",
    "\n",
    "\n",
    "#----------------------------------\n",
    "#Transform data\n",
    "#---------------------------------\n",
    "\n",
    "#dates of month\n",
    "date_arr = dates_array()\n",
    "    \n",
    "#Parameters for inserting data\n",
    "df_dates_aprobadas = data_avance['FECRESOL'].to_numpy().tolist()\n",
    "column1 = data_avance.columns[0]\n",
    "column2 = data_avance.columns[1]\n",
    "\n",
    "#Insert new rows\n",
    "df_new_activas = insert_dates(date_arr,data_avance,df_dates_aprobadas,'activas',column1,column2)\n"
   ]
  },
  {
   "cell_type": "code",
   "execution_count": 9,
   "metadata": {},
   "outputs": [
    {
     "data": {
      "text/html": [
       "<div>\n",
       "<style scoped>\n",
       "    .dataframe tbody tr th:only-of-type {\n",
       "        vertical-align: middle;\n",
       "    }\n",
       "\n",
       "    .dataframe tbody tr th {\n",
       "        vertical-align: top;\n",
       "    }\n",
       "\n",
       "    .dataframe thead th {\n",
       "        text-align: right;\n",
       "    }\n",
       "</style>\n",
       "<table border=\"1\" class=\"dataframe\">\n",
       "  <thead>\n",
       "    <tr style=\"text-align: right;\">\n",
       "      <th></th>\n",
       "      <th>FECRESOL</th>\n",
       "      <th>CANTIDAD</th>\n",
       "    </tr>\n",
       "  </thead>\n",
       "  <tbody>\n",
       "    <tr>\n",
       "      <th>0</th>\n",
       "      <td>2023-09-20</td>\n",
       "      <td>5</td>\n",
       "    </tr>\n",
       "    <tr>\n",
       "      <th>1</th>\n",
       "      <td>2023-09-19</td>\n",
       "      <td>4</td>\n",
       "    </tr>\n",
       "    <tr>\n",
       "      <th>2</th>\n",
       "      <td>2023-09-18</td>\n",
       "      <td>9</td>\n",
       "    </tr>\n",
       "    <tr>\n",
       "      <th>3</th>\n",
       "      <td>2023-09-16</td>\n",
       "      <td>2</td>\n",
       "    </tr>\n",
       "    <tr>\n",
       "      <th>4</th>\n",
       "      <td>2023-09-15</td>\n",
       "      <td>183</td>\n",
       "    </tr>\n",
       "    <tr>\n",
       "      <th>5</th>\n",
       "      <td>2023-09-14</td>\n",
       "      <td>236</td>\n",
       "    </tr>\n",
       "    <tr>\n",
       "      <th>6</th>\n",
       "      <td>2023-09-13</td>\n",
       "      <td>205</td>\n",
       "    </tr>\n",
       "    <tr>\n",
       "      <th>7</th>\n",
       "      <td>2023-09-12</td>\n",
       "      <td>79</td>\n",
       "    </tr>\n",
       "    <tr>\n",
       "      <th>8</th>\n",
       "      <td>2023-09-11</td>\n",
       "      <td>177</td>\n",
       "    </tr>\n",
       "    <tr>\n",
       "      <th>9</th>\n",
       "      <td>2023-09-08</td>\n",
       "      <td>219</td>\n",
       "    </tr>\n",
       "    <tr>\n",
       "      <th>10</th>\n",
       "      <td>2023-09-07</td>\n",
       "      <td>268</td>\n",
       "    </tr>\n",
       "    <tr>\n",
       "      <th>11</th>\n",
       "      <td>2023-09-06</td>\n",
       "      <td>274</td>\n",
       "    </tr>\n",
       "    <tr>\n",
       "      <th>12</th>\n",
       "      <td>2023-09-05</td>\n",
       "      <td>255</td>\n",
       "    </tr>\n",
       "    <tr>\n",
       "      <th>13</th>\n",
       "      <td>2023-09-04</td>\n",
       "      <td>216</td>\n",
       "    </tr>\n",
       "    <tr>\n",
       "      <th>14</th>\n",
       "      <td>2023-09-02</td>\n",
       "      <td>117</td>\n",
       "    </tr>\n",
       "    <tr>\n",
       "      <th>15</th>\n",
       "      <td>2023-09-01</td>\n",
       "      <td>278</td>\n",
       "    </tr>\n",
       "    <tr>\n",
       "      <th>16</th>\n",
       "      <td>2023-09-03</td>\n",
       "      <td>0</td>\n",
       "    </tr>\n",
       "    <tr>\n",
       "      <th>17</th>\n",
       "      <td>2023-09-09</td>\n",
       "      <td>0</td>\n",
       "    </tr>\n",
       "    <tr>\n",
       "      <th>18</th>\n",
       "      <td>2023-09-10</td>\n",
       "      <td>0</td>\n",
       "    </tr>\n",
       "    <tr>\n",
       "      <th>19</th>\n",
       "      <td>2023-09-17</td>\n",
       "      <td>0</td>\n",
       "    </tr>\n",
       "  </tbody>\n",
       "</table>\n",
       "</div>"
      ],
      "text/plain": [
       "      FECRESOL  CANTIDAD\n",
       "0   2023-09-20         5\n",
       "1   2023-09-19         4\n",
       "2   2023-09-18         9\n",
       "3   2023-09-16         2\n",
       "4   2023-09-15       183\n",
       "5   2023-09-14       236\n",
       "6   2023-09-13       205\n",
       "7   2023-09-12        79\n",
       "8   2023-09-11       177\n",
       "9   2023-09-08       219\n",
       "10  2023-09-07       268\n",
       "11  2023-09-06       274\n",
       "12  2023-09-05       255\n",
       "13  2023-09-04       216\n",
       "14  2023-09-02       117\n",
       "15  2023-09-01       278\n",
       "16  2023-09-03         0\n",
       "17  2023-09-09         0\n",
       "18  2023-09-10         0\n",
       "19  2023-09-17         0"
      ]
     },
     "execution_count": 9,
     "metadata": {},
     "output_type": "execute_result"
    }
   ],
   "source": [
    "df_new_activas"
   ]
  },
  {
   "cell_type": "markdown",
   "metadata": {},
   "source": [
    "Sort dataframe from the column \"FECRESOL\""
   ]
  },
  {
   "cell_type": "code",
   "execution_count": 10,
   "metadata": {},
   "outputs": [],
   "source": [
    "df_new_activas = df_new_activas.sort_values(by='FECRESOL',ascending=False)"
   ]
  },
  {
   "cell_type": "code",
   "execution_count": 11,
   "metadata": {},
   "outputs": [
    {
     "data": {
      "text/html": [
       "<div>\n",
       "<style scoped>\n",
       "    .dataframe tbody tr th:only-of-type {\n",
       "        vertical-align: middle;\n",
       "    }\n",
       "\n",
       "    .dataframe tbody tr th {\n",
       "        vertical-align: top;\n",
       "    }\n",
       "\n",
       "    .dataframe thead th {\n",
       "        text-align: right;\n",
       "    }\n",
       "</style>\n",
       "<table border=\"1\" class=\"dataframe\">\n",
       "  <thead>\n",
       "    <tr style=\"text-align: right;\">\n",
       "      <th></th>\n",
       "      <th>FECRESOL</th>\n",
       "      <th>CANTIDAD</th>\n",
       "    </tr>\n",
       "  </thead>\n",
       "  <tbody>\n",
       "    <tr>\n",
       "      <th>0</th>\n",
       "      <td>2023-09-20</td>\n",
       "      <td>5</td>\n",
       "    </tr>\n",
       "    <tr>\n",
       "      <th>1</th>\n",
       "      <td>2023-09-19</td>\n",
       "      <td>4</td>\n",
       "    </tr>\n",
       "    <tr>\n",
       "      <th>2</th>\n",
       "      <td>2023-09-18</td>\n",
       "      <td>9</td>\n",
       "    </tr>\n",
       "    <tr>\n",
       "      <th>19</th>\n",
       "      <td>2023-09-17</td>\n",
       "      <td>0</td>\n",
       "    </tr>\n",
       "    <tr>\n",
       "      <th>3</th>\n",
       "      <td>2023-09-16</td>\n",
       "      <td>2</td>\n",
       "    </tr>\n",
       "    <tr>\n",
       "      <th>4</th>\n",
       "      <td>2023-09-15</td>\n",
       "      <td>183</td>\n",
       "    </tr>\n",
       "    <tr>\n",
       "      <th>5</th>\n",
       "      <td>2023-09-14</td>\n",
       "      <td>236</td>\n",
       "    </tr>\n",
       "    <tr>\n",
       "      <th>6</th>\n",
       "      <td>2023-09-13</td>\n",
       "      <td>205</td>\n",
       "    </tr>\n",
       "    <tr>\n",
       "      <th>7</th>\n",
       "      <td>2023-09-12</td>\n",
       "      <td>79</td>\n",
       "    </tr>\n",
       "    <tr>\n",
       "      <th>8</th>\n",
       "      <td>2023-09-11</td>\n",
       "      <td>177</td>\n",
       "    </tr>\n",
       "    <tr>\n",
       "      <th>18</th>\n",
       "      <td>2023-09-10</td>\n",
       "      <td>0</td>\n",
       "    </tr>\n",
       "    <tr>\n",
       "      <th>17</th>\n",
       "      <td>2023-09-09</td>\n",
       "      <td>0</td>\n",
       "    </tr>\n",
       "    <tr>\n",
       "      <th>9</th>\n",
       "      <td>2023-09-08</td>\n",
       "      <td>219</td>\n",
       "    </tr>\n",
       "    <tr>\n",
       "      <th>10</th>\n",
       "      <td>2023-09-07</td>\n",
       "      <td>268</td>\n",
       "    </tr>\n",
       "    <tr>\n",
       "      <th>11</th>\n",
       "      <td>2023-09-06</td>\n",
       "      <td>274</td>\n",
       "    </tr>\n",
       "    <tr>\n",
       "      <th>12</th>\n",
       "      <td>2023-09-05</td>\n",
       "      <td>255</td>\n",
       "    </tr>\n",
       "    <tr>\n",
       "      <th>13</th>\n",
       "      <td>2023-09-04</td>\n",
       "      <td>216</td>\n",
       "    </tr>\n",
       "    <tr>\n",
       "      <th>16</th>\n",
       "      <td>2023-09-03</td>\n",
       "      <td>0</td>\n",
       "    </tr>\n",
       "    <tr>\n",
       "      <th>14</th>\n",
       "      <td>2023-09-02</td>\n",
       "      <td>117</td>\n",
       "    </tr>\n",
       "    <tr>\n",
       "      <th>15</th>\n",
       "      <td>2023-09-01</td>\n",
       "      <td>278</td>\n",
       "    </tr>\n",
       "  </tbody>\n",
       "</table>\n",
       "</div>"
      ],
      "text/plain": [
       "      FECRESOL  CANTIDAD\n",
       "0   2023-09-20         5\n",
       "1   2023-09-19         4\n",
       "2   2023-09-18         9\n",
       "19  2023-09-17         0\n",
       "3   2023-09-16         2\n",
       "4   2023-09-15       183\n",
       "5   2023-09-14       236\n",
       "6   2023-09-13       205\n",
       "7   2023-09-12        79\n",
       "8   2023-09-11       177\n",
       "18  2023-09-10         0\n",
       "17  2023-09-09         0\n",
       "9   2023-09-08       219\n",
       "10  2023-09-07       268\n",
       "11  2023-09-06       274\n",
       "12  2023-09-05       255\n",
       "13  2023-09-04       216\n",
       "16  2023-09-03         0\n",
       "14  2023-09-02       117\n",
       "15  2023-09-01       278"
      ]
     },
     "execution_count": 11,
     "metadata": {},
     "output_type": "execute_result"
    }
   ],
   "source": [
    "df_new_activas"
   ]
  },
  {
   "cell_type": "markdown",
   "metadata": {},
   "source": [
    "In parto of code, you insert the function that help you insert the data in the table of html"
   ]
  },
  {
   "cell_type": "code",
   "execution_count": 12,
   "metadata": {},
   "outputs": [],
   "source": [
    "df_new_activas_copy = df_new_activas.copy()"
   ]
  },
  {
   "cell_type": "markdown",
   "metadata": {},
   "source": [
    "# PRUBEAS"
   ]
  },
  {
   "cell_type": "markdown",
   "metadata": {},
   "source": [
    "df_new_activas -> Principal\n",
    "\n",
    "df_new_activas_copy  -> Secundario"
   ]
  },
  {
   "cell_type": "markdown",
   "metadata": {},
   "source": [
    "Convertimos la data a numpy "
   ]
  },
  {
   "cell_type": "code",
   "execution_count": 44,
   "metadata": {},
   "outputs": [],
   "source": [
    "#Convert object to string data type\n",
    "df_new_activas['FECRESOL'] = df_new_activas['FECRESOL'].astype(str)\n",
    "df_new_activas['CANTIDAD'] = df_new_activas['CANTIDAD'].astype(str)\n",
    "\n",
    "#df_table['FECRESOL'] = df_table['FECRESOL'].astype(str)\n",
    "\n",
    "#Convert the dataframe to numpy\n",
    "df_list_activas = df_new_activas.to_numpy().tolist()\n"
   ]
  },
  {
   "cell_type": "markdown",
   "metadata": {},
   "source": [
    "Convertimos la segunda data a numpy"
   ]
  },
  {
   "cell_type": "code",
   "execution_count": 45,
   "metadata": {},
   "outputs": [],
   "source": [
    "#Convert object to string data type\n",
    "df_new_activas_copy['FECRESOL'] = df_new_activas_copy['FECRESOL'].astype(str)\n",
    "df_new_activas_copy['CANTIDAD'] = df_new_activas_copy['CANTIDAD'].astype(str)\n",
    "\n",
    "#Convert the dataframe to numpy\n",
    "df_list_activas_copy = df_new_activas_copy.to_numpy().tolist()"
   ]
  },
  {
   "cell_type": "markdown",
   "metadata": {},
   "source": [
    "Creamos la funcion maestra"
   ]
  },
  {
   "cell_type": "code",
   "execution_count": 47,
   "metadata": {},
   "outputs": [],
   "source": [
    "def srch(df_list):\n",
    "        #variables of scope function\n",
    "        final=''\n",
    "        b=0\n",
    "        c=0\n",
    "        x=0\n",
    "        in_jump = '''<tr>'''\n",
    "        jump_out = '''</tr>'''\n",
    "        #print your array in html\n",
    "        while x < len(df_list)*4:\n",
    "            if b ==4:\n",
    "                b=0\n",
    "                c+=1\n",
    "                final = final+jump_out\n",
    "            if b==0:\n",
    "                final = final+in_jump\n",
    "            data_col = '''<td style =\"border-style: groove;\">'''+df_list[c][b]+'''</td>'''\n",
    "            temp = data_col\n",
    "            final +=data_col\n",
    "            b+=1\n",
    "            x+=1\n",
    "        final = final+jump_out\n",
    "        return final"
   ]
  },
  {
   "cell_type": "markdown",
   "metadata": {},
   "source": [
    "Combinamos los 2 array para realizar la insercion de los datos"
   ]
  },
  {
   "cell_type": "code",
   "execution_count": 48,
   "metadata": {},
   "outputs": [],
   "source": [
    "# Combina los elementos de array_1 y array_2 utilizando list comprehensions\n",
    "array_final = [item1 + item2 for item1, item2 in zip(df_list_activas, df_list_activas_copy)]"
   ]
  },
  {
   "cell_type": "code",
   "execution_count": 49,
   "metadata": {},
   "outputs": [],
   "source": [
    "#function that return the row.\n",
    "tmp_table = srch(array_final)"
   ]
  },
  {
   "cell_type": "code",
   "execution_count": 50,
   "metadata": {},
   "outputs": [
    {
     "data": {
      "text/plain": [
       "'<tr><td style =\"border-style: groove;\">2023-09-20</td><td style =\"border-style: groove;\">5</td><td style =\"border-style: groove;\">2023-09-20</td><td style =\"border-style: groove;\">5</td></tr><tr><td style =\"border-style: groove;\">2023-09-19</td><td style =\"border-style: groove;\">4</td><td style =\"border-style: groove;\">2023-09-19</td><td style =\"border-style: groove;\">4</td></tr><tr><td style =\"border-style: groove;\">2023-09-18</td><td style =\"border-style: groove;\">9</td><td style =\"border-style: groove;\">2023-09-18</td><td style =\"border-style: groove;\">9</td></tr><tr><td style =\"border-style: groove;\">2023-09-17</td><td style =\"border-style: groove;\">0</td><td style =\"border-style: groove;\">2023-09-17</td><td style =\"border-style: groove;\">0</td></tr><tr><td style =\"border-style: groove;\">2023-09-16</td><td style =\"border-style: groove;\">2</td><td style =\"border-style: groove;\">2023-09-16</td><td style =\"border-style: groove;\">2</td></tr><tr><td style =\"border-style: groove;\">2023-09-15</td><td style =\"border-style: groove;\">183</td><td style =\"border-style: groove;\">2023-09-15</td><td style =\"border-style: groove;\">183</td></tr><tr><td style =\"border-style: groove;\">2023-09-14</td><td style =\"border-style: groove;\">236</td><td style =\"border-style: groove;\">2023-09-14</td><td style =\"border-style: groove;\">236</td></tr><tr><td style =\"border-style: groove;\">2023-09-13</td><td style =\"border-style: groove;\">205</td><td style =\"border-style: groove;\">2023-09-13</td><td style =\"border-style: groove;\">205</td></tr><tr><td style =\"border-style: groove;\">2023-09-12</td><td style =\"border-style: groove;\">79</td><td style =\"border-style: groove;\">2023-09-12</td><td style =\"border-style: groove;\">79</td></tr><tr><td style =\"border-style: groove;\">2023-09-11</td><td style =\"border-style: groove;\">177</td><td style =\"border-style: groove;\">2023-09-11</td><td style =\"border-style: groove;\">177</td></tr><tr><td style =\"border-style: groove;\">2023-09-10</td><td style =\"border-style: groove;\">0</td><td style =\"border-style: groove;\">2023-09-10</td><td style =\"border-style: groove;\">0</td></tr><tr><td style =\"border-style: groove;\">2023-09-09</td><td style =\"border-style: groove;\">0</td><td style =\"border-style: groove;\">2023-09-09</td><td style =\"border-style: groove;\">0</td></tr><tr><td style =\"border-style: groove;\">2023-09-08</td><td style =\"border-style: groove;\">219</td><td style =\"border-style: groove;\">2023-09-08</td><td style =\"border-style: groove;\">219</td></tr><tr><td style =\"border-style: groove;\">2023-09-07</td><td style =\"border-style: groove;\">268</td><td style =\"border-style: groove;\">2023-09-07</td><td style =\"border-style: groove;\">268</td></tr><tr><td style =\"border-style: groove;\">2023-09-06</td><td style =\"border-style: groove;\">274</td><td style =\"border-style: groove;\">2023-09-06</td><td style =\"border-style: groove;\">274</td></tr><tr><td style =\"border-style: groove;\">2023-09-05</td><td style =\"border-style: groove;\">255</td><td style =\"border-style: groove;\">2023-09-05</td><td style =\"border-style: groove;\">255</td></tr><tr><td style =\"border-style: groove;\">2023-09-04</td><td style =\"border-style: groove;\">216</td><td style =\"border-style: groove;\">2023-09-04</td><td style =\"border-style: groove;\">216</td></tr><tr><td style =\"border-style: groove;\">2023-09-03</td><td style =\"border-style: groove;\">0</td><td style =\"border-style: groove;\">2023-09-03</td><td style =\"border-style: groove;\">0</td></tr><tr><td style =\"border-style: groove;\">2023-09-02</td><td style =\"border-style: groove;\">117</td><td style =\"border-style: groove;\">2023-09-02</td><td style =\"border-style: groove;\">117</td></tr><tr><td style =\"border-style: groove;\">2023-09-01</td><td style =\"border-style: groove;\">278</td><td style =\"border-style: groove;\">2023-09-01</td><td style =\"border-style: groove;\">278</td></tr>'"
      ]
     },
     "execution_count": 50,
     "metadata": {},
     "output_type": "execute_result"
    }
   ],
   "source": [
    "tmp_table"
   ]
  },
  {
   "cell_type": "markdown",
   "metadata": {},
   "source": [
    "PRUEBA CON 2 DATASET"
   ]
  },
  {
   "cell_type": "code",
   "execution_count": 43,
   "metadata": {},
   "outputs": [
    {
     "name": "stdout",
     "output_type": "stream",
     "text": [
      "[['2023-09-20', '5', '2023-09-20', '5'], ['2023-09-19', '4', '2023-09-19', '4'], ['2023-09-18', '9', '2023-09-18', '9'], ['2023-09-17', '0', '2023-09-17', '0'], ['2023-09-16', '2', '2023-09-16', '2'], ['2023-09-15', '183', '2023-09-15', '183'], ['2023-09-14', '236', '2023-09-14', '236'], ['2023-09-13', '205', '2023-09-13', '205'], ['2023-09-12', '79', '2023-09-12', '79'], ['2023-09-11', '177', '2023-09-11', '177'], ['2023-09-10', '0', '2023-09-10', '0'], ['2023-09-09', '0', '2023-09-09', '0'], ['2023-09-08', '219', '2023-09-08', '219'], ['2023-09-07', '268', '2023-09-07', '268'], ['2023-09-06', '274', '2023-09-06', '274'], ['2023-09-05', '255', '2023-09-05', '255'], ['2023-09-04', '216', '2023-09-04', '216'], ['2023-09-03', '0', '2023-09-03', '0'], ['2023-09-02', '117', '2023-09-02', '117'], ['2023-09-01', '278', '2023-09-01', '278']]\n"
     ]
    }
   ],
   "source": [
    "# Combina los elementos de array_1 y array_2 utilizando list comprehensions\n",
    "array_final = [item1 + item2 for item1, item2 in zip(df_list_activas, df_list_activas_copy)]\n",
    "\n",
    "# Imprime el resultado\n",
    "print(array_final)"
   ]
  },
  {
   "cell_type": "code",
   "execution_count": 7,
   "metadata": {},
   "outputs": [],
   "source": [
    "def dates_array():\n",
    "    import datetime\n",
    "    current_date = datetime.date.today() +datetime.timedelta(days=-1)\n",
    "    fisrt_date = current_date.replace(day=1)\n",
    "\n",
    "    #initialize array of dates\n",
    "    dates = []\n",
    "\n",
    "    #fisrt insert in dates\n",
    "    dates.append(fisrt_date)\n",
    "\n",
    "    while fisrt_date < current_date:\n",
    "        # calculate the next day\n",
    "        fisrt_date += datetime.timedelta(days=1)\n",
    "        #insert the next date \n",
    "        dates.append(fisrt_date)\n",
    "    return dates"
   ]
  },
  {
   "cell_type": "code",
   "execution_count": 8,
   "metadata": {},
   "outputs": [],
   "source": [
    "arreglo_dias = dates_array()"
   ]
  },
  {
   "cell_type": "code",
   "execution_count": 9,
   "metadata": {},
   "outputs": [
    {
     "data": {
      "text/plain": [
       "[datetime.date(2023, 9, 1),\n",
       " datetime.date(2023, 9, 2),\n",
       " datetime.date(2023, 9, 3),\n",
       " datetime.date(2023, 9, 4),\n",
       " datetime.date(2023, 9, 5),\n",
       " datetime.date(2023, 9, 6),\n",
       " datetime.date(2023, 9, 7),\n",
       " datetime.date(2023, 9, 8),\n",
       " datetime.date(2023, 9, 9),\n",
       " datetime.date(2023, 9, 10),\n",
       " datetime.date(2023, 9, 11),\n",
       " datetime.date(2023, 9, 12),\n",
       " datetime.date(2023, 9, 13),\n",
       " datetime.date(2023, 9, 14),\n",
       " datetime.date(2023, 9, 15),\n",
       " datetime.date(2023, 9, 16),\n",
       " datetime.date(2023, 9, 17),\n",
       " datetime.date(2023, 9, 18),\n",
       " datetime.date(2023, 9, 19),\n",
       " datetime.date(2023, 9, 20),\n",
       " datetime.date(2023, 9, 21),\n",
       " datetime.date(2023, 9, 22),\n",
       " datetime.date(2023, 9, 23),\n",
       " datetime.date(2023, 9, 24),\n",
       " datetime.date(2023, 9, 25)]"
      ]
     },
     "execution_count": 9,
     "metadata": {},
     "output_type": "execute_result"
    }
   ],
   "source": [
    "arreglo_dias"
   ]
  },
  {
   "cell_type": "code",
   "execution_count": null,
   "metadata": {},
   "outputs": [],
   "source": []
  }
 ],
 "metadata": {
  "kernelspec": {
   "display_name": "Python 3",
   "language": "python",
   "name": "python3"
  },
  "language_info": {
   "codemirror_mode": {
    "name": "ipython",
    "version": 3
   },
   "file_extension": ".py",
   "mimetype": "text/x-python",
   "name": "python",
   "nbconvert_exporter": "python",
   "pygments_lexer": "ipython3",
   "version": "3.9.0"
  },
  "orig_nbformat": 4
 },
 "nbformat": 4,
 "nbformat_minor": 2
}
