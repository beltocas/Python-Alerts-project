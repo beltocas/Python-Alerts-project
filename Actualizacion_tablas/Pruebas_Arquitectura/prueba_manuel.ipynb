{
 "cells": [
  {
   "cell_type": "code",
   "execution_count": 1,
   "metadata": {},
   "outputs": [],
   "source": [
    "from datetime import datetime \n",
    "import pandas as pd\n",
    "import sqlalchemy as db\n",
    "import numpy as np\n",
    "import pyodbc"
   ]
  },
  {
   "cell_type": "code",
   "execution_count": 2,
   "metadata": {},
   "outputs": [
    {
     "name": "stderr",
     "output_type": "stream",
     "text": [
      "C:\\Users\\B41319\\AppData\\Local\\Temp\\ipykernel_24420\\394147558.py:20: UserWarning: pandas only supports SQLAlchemy connectable (engine/connection) or database string URI or sqlite3 DBAPI2 connection. Other DBAPI2 objects are not tested. Please consider using SQLAlchemy.\n",
      "  data_avance = pd.read_sql_query(query_temporal,conn)\n"
     ]
    }
   ],
   "source": [
    "#Conection with your data base\n",
    "conn = pyodbc.connect('Driver={Teradata Database ODBC Driver 16.20};'\n",
    "                        'DBCNAME={your_db_name};'\n",
    "                        'UID={user};'\n",
    "                        'PWD={password}')\n",
    "\n",
    "\n",
    "consulta = conn.cursor()\n",
    "consulta.execute('''\n",
    "    CREATE VOLATILE MULTISET TABLE TEMP_TC_HISTORICO_APROBADA_ALERT AS\n",
    "        (\n",
    "        SELECT  \n",
    "            A.idSeccion AS TIENDA,\n",
    "            A.registro  AS REGISTRO,\n",
    "            CONCAT(A.apPaterno,' ',A.apMaterno,' ',A.nombres)  AS NOMBRE_COLABORADOR,\n",
    "            A.categoria AS CATEGORIA, \n",
    "            A.estado AS ESTADO,\n",
    "            A.tipo AS TIPO \n",
    "        FROM DLAB_DESNEGRET.DB_FFLL_COLABORADOR A\n",
    "        WHERE idseccion = 24100 and  fecMaxRed = '1900-01-01'\n",
    "        )\n",
    "\n",
    "    WITH DATA \n",
    "    PRIMARY INDEX(EJECUTIVO,NRODOCTIT ) ON COMMIT PRESERVE ROWS;\n",
    "        ''')\n",
    "    \n",
    "consulta.commit()\n",
    "consulta.close()\n",
    "    \n",
    "\n",
    "query_temporal = '''\n",
    "    SELECT FECRESOL, COUNT(*) CANTIDAD from TEMP_TC_HISTORICO_APROBADA_ALERT\n",
    "    WHERE MESRESOL=(year(date)*100+month(date))\n",
    "    AND CODESTADO=3 AND CODOPERAC IN (1,2)\n",
    "    GROUP BY FECRESOL\n",
    "    ORDER BY FECRESOL DESC;\n",
    "    '''\n",
    "\n",
    "data_avance = pd.read_sql_query(query_temporal,conn)"
   ]
  },
  {
   "cell_type": "code",
   "execution_count": 3,
   "metadata": {},
   "outputs": [
    {
     "data": {
      "text/html": [
       "<div>\n",
       "<style scoped>\n",
       "    .dataframe tbody tr th:only-of-type {\n",
       "        vertical-align: middle;\n",
       "    }\n",
       "\n",
       "    .dataframe tbody tr th {\n",
       "        vertical-align: top;\n",
       "    }\n",
       "\n",
       "    .dataframe thead th {\n",
       "        text-align: right;\n",
       "    }\n",
       "</style>\n",
       "<table border=\"1\" class=\"dataframe\">\n",
       "  <thead>\n",
       "    <tr style=\"text-align: right;\">\n",
       "      <th></th>\n",
       "      <th>TIENDA</th>\n",
       "      <th>REGISTRO</th>\n",
       "      <th>NOMBRE_COLABORADOR</th>\n",
       "      <th>CATEGORIA</th>\n",
       "      <th>ESTADO</th>\n",
       "      <th>TIPO</th>\n",
       "    </tr>\n",
       "  </thead>\n",
       "  <tbody>\n",
       "    <tr>\n",
       "      <th>0</th>\n",
       "      <td>24100</td>\n",
       "      <td>B41775</td>\n",
       "      <td>TIPISMANA TAPULLIMA MARIA STEFANI</td>\n",
       "      <td>RF DIGITAL</td>\n",
       "      <td>OCUPADA</td>\n",
       "      <td>CUBIERTO</td>\n",
       "    </tr>\n",
       "    <tr>\n",
       "      <th>1</th>\n",
       "      <td>24100</td>\n",
       "      <td>B35292</td>\n",
       "      <td>ORE CASTILLO ADRIANA YSABEL</td>\n",
       "      <td>RF EXPERTO</td>\n",
       "      <td>OCUPADA</td>\n",
       "      <td>CUBIERTO</td>\n",
       "    </tr>\n",
       "    <tr>\n",
       "      <th>2</th>\n",
       "      <td>24100</td>\n",
       "      <td>B35898</td>\n",
       "      <td>ARCE BRICEÑO SAHORY  STEFANIA</td>\n",
       "      <td>GERENTE ASISTENTE TDA IB LIMA</td>\n",
       "      <td>OCUPADA</td>\n",
       "      <td>CUBIERTO</td>\n",
       "    </tr>\n",
       "    <tr>\n",
       "      <th>3</th>\n",
       "      <td>24100</td>\n",
       "      <td>B37547</td>\n",
       "      <td>GUARDERAS GARAY ALEXIS RICARDO</td>\n",
       "      <td>RF EXPERTO</td>\n",
       "      <td>OCUPADA</td>\n",
       "      <td>CUBIERTO</td>\n",
       "    </tr>\n",
       "    <tr>\n",
       "      <th>4</th>\n",
       "      <td>24100</td>\n",
       "      <td>B26197</td>\n",
       "      <td>CRISOLOGO CCAPA LINDA</td>\n",
       "      <td>RF SENIOR GUIA</td>\n",
       "      <td>OCUPADA</td>\n",
       "      <td>CUBIERTO</td>\n",
       "    </tr>\n",
       "  </tbody>\n",
       "</table>\n",
       "</div>"
      ],
      "text/plain": [
       "  TIENDA REGISTRO                 NOMBRE_COLABORADOR  \\\n",
       "0  24100   B41775  TIPISMANA TAPULLIMA MARIA STEFANI   \n",
       "1  24100   B35292        ORE CASTILLO ADRIANA YSABEL   \n",
       "2  24100   B35898      ARCE BRICEÑO SAHORY  STEFANIA   \n",
       "3  24100   B37547     GUARDERAS GARAY ALEXIS RICARDO   \n",
       "4  24100   B26197              CRISOLOGO CCAPA LINDA   \n",
       "\n",
       "                       CATEGORIA   ESTADO      TIPO  \n",
       "0                     RF DIGITAL  OCUPADA  CUBIERTO  \n",
       "1                     RF EXPERTO  OCUPADA  CUBIERTO  \n",
       "2  GERENTE ASISTENTE TDA IB LIMA  OCUPADA  CUBIERTO  \n",
       "3                     RF EXPERTO  OCUPADA  CUBIERTO  \n",
       "4                 RF SENIOR GUIA  OCUPADA  CUBIERTO  "
      ]
     },
     "execution_count": 3,
     "metadata": {},
     "output_type": "execute_result"
    }
   ],
   "source": [
    "data_avance"
   ]
  },
  {
   "cell_type": "code",
   "execution_count": null,
   "metadata": {},
   "outputs": [],
   "source": []
  }
 ],
 "metadata": {
  "kernelspec": {
   "display_name": "Python 3",
   "language": "python",
   "name": "python3"
  },
  "language_info": {
   "codemirror_mode": {
    "name": "ipython",
    "version": 3
   },
   "file_extension": ".py",
   "mimetype": "text/x-python",
   "name": "python",
   "nbconvert_exporter": "python",
   "pygments_lexer": "ipython3",
   "version": "3.9.0"
  },
  "orig_nbformat": 4
 },
 "nbformat": 4,
 "nbformat_minor": 2
}
