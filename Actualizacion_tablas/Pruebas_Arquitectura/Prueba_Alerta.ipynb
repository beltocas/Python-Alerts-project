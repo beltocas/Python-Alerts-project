{
 "cells": [
  {
   "cell_type": "code",
   "execution_count": 1,
   "metadata": {},
   "outputs": [],
   "source": [
    "from datetime import datetime \n",
    "import pandas as pd\n",
    "import sqlalchemy as db\n",
    "import numpy as np\n",
    "import pyodbc"
   ]
  },
  {
   "cell_type": "code",
   "execution_count": 2,
   "metadata": {},
   "outputs": [
    {
     "name": "stderr",
     "output_type": "stream",
     "text": [
      "C:\\Users\\B41319\\AppData\\Local\\Temp\\ipykernel_21144\\3413317249.py:41: UserWarning: pandas only supports SQLAlchemy connectable (engine/connection) or database string URI or sqlite3 DBAPI2 connection. Other DBAPI2 objects are not tested. Please consider using SQLAlchemy.\n",
      "  data_avance = pd.read_sql_query(query_temporal,conn)\n"
     ]
    }
   ],
   "source": [
    "#Control execution time\n",
    "start = datetime.now()\n",
    "\n",
    "#Conection with your data base\n",
    "conn = pyodbc.connect('Driver={Teradata Database ODBC Driver 16.20};'\n",
    "                        'DBCNAME={10.11.240.31};'\n",
    "                        'UID={APP_PlanContrGestCanales};'\n",
    "                        'PWD={frBNeXosBa}')\n",
    "\n",
    "\n",
    "consulta = conn.cursor()\n",
    "consulta.execute('''\n",
    "    CREATE VOLATILE MULTISET TABLE TEMP_TC_HISTORICO_APROBADA_ALERT AS\n",
    "        (\n",
    "            SELECT \tSupervisor_Cd  REG_SUPERVISOR,Supervisor_Nm SUPERVIDOR,Promotor_Cd CODPROMOT,Promotor_Nm EJECUTIVO,documento_Num NRODOCTIT,Cliente_Cd,\n",
    "                    CAST(AprobacionExpedADQ_Fc AS DATE) FECRESOL,MesAprobacionExpedADQ_Fc MESRESOL,CAST(EntregaTc_Fc AS DATE) FECENTREGA ,MesEntregaTc_Dsc MESENTREGA,MESACTIVACOMISION,\n",
    "                    FECACTIVACOMISION,EquipoVenta_Dsc EQUIPO,SubEquipoVenta_Dsc SUBEQUIPO,EstadoSolicitud_Cd CODESTADO,Operacion_Cd CODOPERAC,Ooperacion_Dsc OPERACION\n",
    "            --SELECT *\n",
    "            FROM \tDLAB_DESNEGRET.CGR_TC_HISTORICO\n",
    "            WHERE \tMesAprobacionExpedADQ_Fc>=(year(date)*100+month(date)-2) AND EstadoSolicitud_Cd=3 AND Operacion_Cd IN (1,2) --and NRODOCTIT = '75489595'\n",
    "            AND \tPromotor_Cd IN (SELECT REG_EJECUTIVO FROM DLAB_DESNEGRET.MAESTRO_DOTACION WHERE PERIODO=(year(date)*100+month(date)) AND EQUIPO='TLV TARJETAS' \n",
    "                                AND sub_equipo = 'EMPRENDEDOR + PREFERENTE' AND PUESTO='EJECUTIVO' )\n",
    "        )\n",
    "\n",
    "    WITH DATA \n",
    "    PRIMARY INDEX(EJECUTIVO,NRODOCTIT ) ON COMMIT PRESERVE ROWS;\n",
    "        ''')\n",
    "    \n",
    "consulta.commit()\n",
    "consulta.close()\n",
    "    \n",
    "\n",
    "query_temporal = '''\n",
    "    SELECT FECRESOL, COUNT(*) CANTIDAD from TEMP_TC_HISTORICO_APROBADA_ALERT\n",
    "    WHERE MESRESOL=(year(date)*100+month(date))\n",
    "    AND CODESTADO=3 AND CODOPERAC IN (1,2)\n",
    "    GROUP BY FECRESOL\n",
    "    ORDER BY FECRESOL DESC;\n",
    "    '''\n",
    "\n",
    "data_avance = pd.read_sql_query(query_temporal,conn)\n",
    "\n",
    "    #Description of mail\n",
    "descripton='''\n",
    "    <p>\n",
    "    Hola team, se reporta la actualizacion por dia de las TC Aprobadas - Canal TLV Tarjetas:\n",
    "    </p>\n",
    "    <br>\n",
    "    '''\n",
    "\n",
    "#Head of table in HTML\n",
    "head= '''       \n",
    "        <table width=\"520\" style=\" border-collapse: collapse;text-align: center;\" border=\"0\">\n",
    "            <thead>\n",
    "                <tr>\n",
    "                    <th style=\" font-family:Arial;font-size:12px;background-color:#05334D;color:white\" colspan=\"2\" scope='colgroup'>TC Aprobadas</th>\n",
    "                    <th style=\" font-family:Arial;font-size:12px;background-color:#05334D;color:white\" colspan=\"2\" scope='colgroup'>TC Activas</th>\n",
    "                </tr>\n",
    "                <tr>\n",
    "                    <th style=\" font-family:Arial;font-size:12px\" scope='col'>Fecha</th>\n",
    "                    <th style=\" font-family:Arial;font-size:12px\" scope='col'>Cantidad</th>\n",
    "                    <th style=\" font-family:Arial;font-size:12px\" scope='col'>Fecha</th>\n",
    "                    <th style=\" font-family:Arial;font-size:12px\" scope='col'>Cantidad</th>\n",
    "                </tr>\n",
    "                <!--<tr style=\"height:10px;\"></tr>-->\n",
    "            '''\n",
    "\n"
   ]
  },
  {
   "cell_type": "code",
   "execution_count": 5,
   "metadata": {},
   "outputs": [],
   "source": [
    "data_avance['FECRESOL'] = data_avance['FECRESOL'].astype(str)"
   ]
  },
  {
   "cell_type": "code",
   "execution_count": 6,
   "metadata": {},
   "outputs": [],
   "source": [
    "#Convert the dataframe to numpy\n",
    "df_list = data_avance.to_numpy().tolist()"
   ]
  },
  {
   "cell_type": "code",
   "execution_count": 7,
   "metadata": {},
   "outputs": [
    {
     "data": {
      "text/plain": [
       "[['2023-09-19', 4],\n",
       " ['2023-09-18', 9],\n",
       " ['2023-09-16', 2],\n",
       " ['2023-09-15', 183],\n",
       " ['2023-09-14', 236],\n",
       " ['2023-09-13', 205],\n",
       " ['2023-09-12', 79],\n",
       " ['2023-09-11', 177],\n",
       " ['2023-09-08', 219],\n",
       " ['2023-09-07', 268],\n",
       " ['2023-09-06', 274],\n",
       " ['2023-09-05', 255],\n",
       " ['2023-09-04', 216],\n",
       " ['2023-09-02', 117],\n",
       " ['2023-09-01', 278]]"
      ]
     },
     "execution_count": 7,
     "metadata": {},
     "output_type": "execute_result"
    }
   ],
   "source": [
    "df_list"
   ]
  },
  {
   "cell_type": "code",
   "execution_count": null,
   "metadata": {},
   "outputs": [],
   "source": []
  }
 ],
 "metadata": {
  "kernelspec": {
   "display_name": "Python 3",
   "language": "python",
   "name": "python3"
  },
  "language_info": {
   "codemirror_mode": {
    "name": "ipython",
    "version": 3
   },
   "file_extension": ".py",
   "mimetype": "text/x-python",
   "name": "python",
   "nbconvert_exporter": "python",
   "pygments_lexer": "ipython3",
   "version": "3.9.0"
  },
  "orig_nbformat": 4
 },
 "nbformat": 4,
 "nbformat_minor": 2
}
